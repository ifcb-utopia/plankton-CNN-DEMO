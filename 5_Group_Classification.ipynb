{
  "cells": [
    {
      "cell_type": "markdown",
      "metadata": {
        "id": "view-in-github",
        "colab_type": "text"
      },
      "source": [
        "<a href=\"https://colab.research.google.com/github/ifcb-utopia/plankton-CNN-DEMO/blob/main/5_Group_Classification.ipynb\" target=\"_parent\"><img src=\"https://colab.research.google.com/assets/colab-badge.svg\" alt=\"Open In Colab\"/></a>"
      ]
    },
    {
      "cell_type": "markdown",
      "metadata": {
        "id": "hIYcKjyqIGdh"
      },
      "source": [
        "# **Classification of 5 Groups of Phytoplankton Image Data**"
      ]
    },
    {
      "cell_type": "markdown",
      "metadata": {
        "id": "XoYor9SdGbvv"
      },
      "source": [
        "This Notebook provides a framework ML model that trains to classify five different phytoplankton species from images\n",
        "\n",
        "# Background\n",
        "\n",
        "Phytoplankton are microscopic plants that cover the whole ocean. They play a vital role in the health of the waters: supplying the marine food web, generating oxygen by photosynthesis, removing carbon dioxide out of the oceans surface, etc.\n",
        "\n",
        "Beyond providing insight into the health of the planet overall, the *type* of phytoplankton is often important to researchers. There are thousands of types of phytoplankton, and so being able to identify types present in specific ecosystems can be crucially important.\n",
        "\n",
        "The Imaging FlowCytoBot (IFCB) is a device that captures high resolution images of ocean particles. Identifying all types of phytoplankton accurately presents a monumental challenge, but this notebook aims to provide a simple framework using a machine learning (ML) image classification model on just five common types of phytoplankton.\n",
        "\n",
        "In this notebook, there are 5 types of phytoplankton: chaetoceros (chae), dinoflagellates (dino), euglenoids (eug), cryptophytes (crypt), oxytoxum (oxy). We have 1000 human-manually labelled images from each type, and we're building a model to automatically label the type of phytoplankton from an IFCB image.\n",
        "\n",
        "# Steps\n",
        "\n",
        "First, we read in the 5,000 images from Google Drive that have been manually labeled. There are two data streams read in: a csv file with each row containing metadata for ALL images collected, and a folder of plankton images in .png format. \n",
        "\n",
        "Next, we prepare the image data by rescaling/resizing/etc, and then convert to a 4D array for processing and training the neutral network.\n",
        "\n",
        "After training, we evaluate the network's performance. With this model, we have achieved 90% accuracy.\n",
        "\n",
        "# Acknowledgements:\n",
        "\n",
        "Function for image pre-processing `preprocess_input` is from E. Culhane\n",
        "\n",
        "Machine Learning Model setup and training code are from the example:\n",
        "https://keras.io/examples/vision/mnist_convnet/\n",
        "\n",
        "A better documented version of that script can be found here:\n",
        "https://colab.research.google.com/drive/1gqWwrWXmFROq5X9b4_aIuQa-3utla1Nh?usp=sharing"
      ]
    },
    {
      "cell_type": "markdown",
      "metadata": {
        "id": "FpZyQpk5IzGh"
      },
      "source": [
        "[![Open In Colab](https://colab.research.google.com/assets/colab-badge.svg)](https://colab.research.google.com/drive/1Ds0GNR9uNKWBy49_sLARCbn7hIAY9lfh?authuser=1#scrollTo=FpZyQpk5IzGh)\n",
        "\n"
      ]
    },
    {
      "cell_type": "markdown",
      "metadata": {
        "id": "Cw5TG6GFdkKp"
      },
      "source": [
        "## Import Statements\n",
        "\n",
        "Here's a complete cell of all the import statements used in this notebook. Note that this notebook also writes import statements as we go"
      ]
    },
    {
      "cell_type": "code",
      "execution_count": 3,
      "metadata": {
        "id": "z1-qsV99dkKq"
      },
      "outputs": [],
      "source": [
        "import pandas as pd\n",
        "import matplotlib.pyplot as plt\n",
        "import os \n",
        "from glob import glob\n",
        "import cv2\n",
        "import numpy as np\n",
        "from tensorflow import keras\n",
        "from tensorflow.keras import layers\n",
        "from sklearn.model_selection import train_test_split\n",
        "from sklearn.metrics import confusion_matrix\n",
        "from sklearn.metrics import ConfusionMatrixDisplay"
      ]
    },
    {
      "cell_type": "markdown",
      "metadata": {
        "id": "3GinxpFAVBBK"
      },
      "source": [
        "## Google Drive Configuration\n",
        "\n",
        "Here we specify the pathways to the data stored on the UTOPIA folder in Google Drive"
      ]
    },
    {
      "cell_type": "code",
      "execution_count": 5,
      "metadata": {
        "id": "cGSuh9fMVPP-"
      },
      "outputs": [],
      "source": [
        "DATA_PATH = 'gdrive/MyDrive/UTOPIA/Hisham/Example_dataset/'\n",
        "SAMPLE_DATA_PATH = 'gdrive/MyDrive/UTOPIA/Hisham/Example_dataset/five_groups/'\n",
        "OUTPUT_PATH = 'gdrive/MyDrive/UTOPIA/Outputs'"
      ]
    },
    {
      "cell_type": "code",
      "execution_count": 6,
      "metadata": {
        "colab": {
          "base_uri": "https://localhost:8080/"
        },
        "id": "ZVxKf_nLqZgZ",
        "outputId": "3752712a-d8fd-4aab-857e-bfe2301069a4"
      },
      "outputs": [
        {
          "output_type": "stream",
          "name": "stdout",
          "text": [
            "Mounted at /content/gdrive\n"
          ]
        }
      ],
      "source": [
        "# Sets the home directory as gdrive. Seems to already be the default, but we\n",
        "# mount this just to be extra clear\n",
        "from google.colab import drive\n",
        "drive.mount('/content/gdrive')"
      ]
    },
    {
      "cell_type": "markdown",
      "metadata": {
        "id": "phMCSqm_NKoa"
      },
      "source": [
        "## Reading Metadata Image .csv file by row\n",
        "\n",
        "Each row of the metadata has two columns: the file name of the image and the type of phytoplankton that the image represents"
      ]
    },
    {
      "cell_type": "code",
      "execution_count": 11,
      "metadata": {
        "id": "k9oqF-BzYKGY"
      },
      "outputs": [],
      "source": [
        "import pandas as pd # Used for dealing with labelled databases\n",
        "\n",
        "# Each row of the .csv file corresponds to a \"manually\" labeled image in the \n",
        "# dataset\n",
        "csv_file = 'gdrive/MyDrive/UTOPIA/Hisham/Example_dataset/five_groups/five_groups_labels.csv'\n",
        "\n",
        "# Define dataframe as the entire .csv file (all the rows are images)\n",
        "df = pd.read_csv(csv_file)"
      ]
    },
    {
      "cell_type": "code",
      "execution_count": null,
      "metadata": {
        "colab": {
          "base_uri": "https://localhost:8080/",
          "height": 206
        },
        "id": "nfnkSy3CY1VW",
        "outputId": "da4322a7-13e3-4d5f-f73d-5aa40a526773"
      },
      "outputs": [
        {
          "data": {
            "text/html": [
              "\n",
              "  <div id=\"df-f6529239-31b5-4919-bd02-bff0c418d41a\">\n",
              "    <div class=\"colab-df-container\">\n",
              "      <div>\n",
              "<style scoped>\n",
              "    .dataframe tbody tr th:only-of-type {\n",
              "        vertical-align: middle;\n",
              "    }\n",
              "\n",
              "    .dataframe tbody tr th {\n",
              "        vertical-align: top;\n",
              "    }\n",
              "\n",
              "    .dataframe thead th {\n",
              "        text-align: right;\n",
              "    }\n",
              "</style>\n",
              "<table border=\"1\" class=\"dataframe\">\n",
              "  <thead>\n",
              "    <tr style=\"text-align: right;\">\n",
              "      <th></th>\n",
              "      <th>file_name</th>\n",
              "      <th>label</th>\n",
              "    </tr>\n",
              "  </thead>\n",
              "  <tbody>\n",
              "    <tr>\n",
              "      <th>0</th>\n",
              "      <td>D20160519T234121_IFCB107_00018.png</td>\n",
              "      <td>chae</td>\n",
              "    </tr>\n",
              "    <tr>\n",
              "      <th>1</th>\n",
              "      <td>D20160519T234121_IFCB107_00137.png</td>\n",
              "      <td>chae</td>\n",
              "    </tr>\n",
              "    <tr>\n",
              "      <th>2</th>\n",
              "      <td>D20160519T234121_IFCB107_00156.png</td>\n",
              "      <td>chae</td>\n",
              "    </tr>\n",
              "    <tr>\n",
              "      <th>3</th>\n",
              "      <td>D20160519T234121_IFCB107_00175.png</td>\n",
              "      <td>chae</td>\n",
              "    </tr>\n",
              "    <tr>\n",
              "      <th>4</th>\n",
              "      <td>D20160519T234121_IFCB107_00378.png</td>\n",
              "      <td>chae</td>\n",
              "    </tr>\n",
              "  </tbody>\n",
              "</table>\n",
              "</div>\n",
              "      <button class=\"colab-df-convert\" onclick=\"convertToInteractive('df-f6529239-31b5-4919-bd02-bff0c418d41a')\"\n",
              "              title=\"Convert this dataframe to an interactive table.\"\n",
              "              style=\"display:none;\">\n",
              "        \n",
              "  <svg xmlns=\"http://www.w3.org/2000/svg\" height=\"24px\"viewBox=\"0 0 24 24\"\n",
              "       width=\"24px\">\n",
              "    <path d=\"M0 0h24v24H0V0z\" fill=\"none\"/>\n",
              "    <path d=\"M18.56 5.44l.94 2.06.94-2.06 2.06-.94-2.06-.94-.94-2.06-.94 2.06-2.06.94zm-11 1L8.5 8.5l.94-2.06 2.06-.94-2.06-.94L8.5 2.5l-.94 2.06-2.06.94zm10 10l.94 2.06.94-2.06 2.06-.94-2.06-.94-.94-2.06-.94 2.06-2.06.94z\"/><path d=\"M17.41 7.96l-1.37-1.37c-.4-.4-.92-.59-1.43-.59-.52 0-1.04.2-1.43.59L10.3 9.45l-7.72 7.72c-.78.78-.78 2.05 0 2.83L4 21.41c.39.39.9.59 1.41.59.51 0 1.02-.2 1.41-.59l7.78-7.78 2.81-2.81c.8-.78.8-2.07 0-2.86zM5.41 20L4 18.59l7.72-7.72 1.47 1.35L5.41 20z\"/>\n",
              "  </svg>\n",
              "      </button>\n",
              "      \n",
              "  <style>\n",
              "    .colab-df-container {\n",
              "      display:flex;\n",
              "      flex-wrap:wrap;\n",
              "      gap: 12px;\n",
              "    }\n",
              "\n",
              "    .colab-df-convert {\n",
              "      background-color: #E8F0FE;\n",
              "      border: none;\n",
              "      border-radius: 50%;\n",
              "      cursor: pointer;\n",
              "      display: none;\n",
              "      fill: #1967D2;\n",
              "      height: 32px;\n",
              "      padding: 0 0 0 0;\n",
              "      width: 32px;\n",
              "    }\n",
              "\n",
              "    .colab-df-convert:hover {\n",
              "      background-color: #E2EBFA;\n",
              "      box-shadow: 0px 1px 2px rgba(60, 64, 67, 0.3), 0px 1px 3px 1px rgba(60, 64, 67, 0.15);\n",
              "      fill: #174EA6;\n",
              "    }\n",
              "\n",
              "    [theme=dark] .colab-df-convert {\n",
              "      background-color: #3B4455;\n",
              "      fill: #D2E3FC;\n",
              "    }\n",
              "\n",
              "    [theme=dark] .colab-df-convert:hover {\n",
              "      background-color: #434B5C;\n",
              "      box-shadow: 0px 1px 3px 1px rgba(0, 0, 0, 0.15);\n",
              "      filter: drop-shadow(0px 1px 2px rgba(0, 0, 0, 0.3));\n",
              "      fill: #FFFFFF;\n",
              "    }\n",
              "  </style>\n",
              "\n",
              "      <script>\n",
              "        const buttonEl =\n",
              "          document.querySelector('#df-f6529239-31b5-4919-bd02-bff0c418d41a button.colab-df-convert');\n",
              "        buttonEl.style.display =\n",
              "          google.colab.kernel.accessAllowed ? 'block' : 'none';\n",
              "\n",
              "        async function convertToInteractive(key) {\n",
              "          const element = document.querySelector('#df-f6529239-31b5-4919-bd02-bff0c418d41a');\n",
              "          const dataTable =\n",
              "            await google.colab.kernel.invokeFunction('convertToInteractive',\n",
              "                                                     [key], {});\n",
              "          if (!dataTable) return;\n",
              "\n",
              "          const docLinkHtml = 'Like what you see? Visit the ' +\n",
              "            '<a target=\"_blank\" href=https://colab.research.google.com/notebooks/data_table.ipynb>data table notebook</a>'\n",
              "            + ' to learn more about interactive tables.';\n",
              "          element.innerHTML = '';\n",
              "          dataTable['output_type'] = 'display_data';\n",
              "          await google.colab.output.renderOutput(dataTable, element);\n",
              "          const docLink = document.createElement('div');\n",
              "          docLink.innerHTML = docLinkHtml;\n",
              "          element.appendChild(docLink);\n",
              "        }\n",
              "      </script>\n",
              "    </div>\n",
              "  </div>\n",
              "  "
            ],
            "text/plain": [
              "                            file_name label\n",
              "0  D20160519T234121_IFCB107_00018.png  chae\n",
              "1  D20160519T234121_IFCB107_00137.png  chae\n",
              "2  D20160519T234121_IFCB107_00156.png  chae\n",
              "3  D20160519T234121_IFCB107_00175.png  chae\n",
              "4  D20160519T234121_IFCB107_00378.png  chae"
            ]
          },
          "execution_count": 6,
          "metadata": {},
          "output_type": "execute_result"
        }
      ],
      "source": [
        "# Checks the first five rows\n",
        "df.head()"
      ]
    },
    {
      "cell_type": "code",
      "execution_count": null,
      "metadata": {
        "colab": {
          "base_uri": "https://localhost:8080/"
        },
        "id": "l_pbjnQwZyXo",
        "outputId": "32365485-aff6-43be-94f8-a38c92783a32"
      },
      "outputs": [
        {
          "data": {
            "text/plain": [
              "(5000, 2)"
            ]
          },
          "execution_count": 7,
          "metadata": {},
          "output_type": "execute_result"
        }
      ],
      "source": [
        "# Checks the size of the data frame (# of images, attributes per image), should\n",
        "# be (5000, 2)\n",
        "df.shape"
      ]
    },
    {
      "cell_type": "code",
      "execution_count": null,
      "metadata": {
        "colab": {
          "base_uri": "https://localhost:8080/"
        },
        "id": "LK8Jcxewbx-R",
        "outputId": "344754a3-101d-42d2-ac22-cd0037049fa9"
      },
      "outputs": [
        {
          "data": {
            "text/plain": [
              "chae     1000\n",
              "crypt    1000\n",
              "dino     1000\n",
              "eug      1000\n",
              "oxy      1000\n",
              "Name: label, dtype: int64"
            ]
          },
          "execution_count": 8,
          "metadata": {},
          "output_type": "execute_result"
        }
      ],
      "source": [
        "# Displays the frequency of the 5 types of phytoplankton \n",
        "# stored in the metadata (should be 1000 each)\n",
        "df.label.unique()\n",
        "df.label.value_counts()"
      ]
    },
    {
      "cell_type": "code",
      "execution_count": null,
      "metadata": {
        "colab": {
          "base_uri": "https://localhost:8080/",
          "height": 307
        },
        "id": "__HUhZK-a1ei",
        "outputId": "ce2069f3-3af7-4bb2-afeb-cf279fefcb8d"
      },
      "outputs": [
        {
          "data": {
            "text/plain": [
              "([0, 1, 2, 3, 4], <a list of 5 Text major ticklabel objects>)"
            ]
          },
          "execution_count": 9,
          "metadata": {},
          "output_type": "execute_result"
        },
        {
          "data": {
            "image/png": "[encoded data removed]",
            "text/plain": [
              "<Figure size 432x288 with 1 Axes>"
            ]
          },
          "metadata": {},
          "output_type": "display_data"
        }
      ],
      "source": [
        "import matplotlib.pyplot as plt # For plotting data\n",
        "\n",
        "# Column in dataframe \"label\" represents type of phytoplankton\n",
        "\n",
        "# Plot distribution of types (coarse taxonomic resolution)\n",
        "df.label.hist(bins=5, grid=0, xlabelsize = 12)  # Bins = 5 unique types of plankton\n",
        "plt.xticks(rotation = 60)\n",
        "\n",
        "# Should have 5 categories, all with 1000 images"
      ]
    },
    {
      "cell_type": "markdown",
      "metadata": {
        "id": "XIiY8y7N_xFM"
      },
      "source": [
        "## Read PNG images\n",
        "\n",
        "We extract the .png files from the 'five_groups' folder"
      ]
    },
    {
      "cell_type": "code",
      "execution_count": null,
      "metadata": {
        "id": "c5NKZrj1-wSm"
      },
      "outputs": [],
      "source": [
        "from glob import glob # For regular expressions\n",
        "png_files_gdrive = glob('gdrive/MyDrive/UTOPIA/Hisham/Example_dataset/five_groups/*.png')"
      ]
    },
    {
      "cell_type": "code",
      "execution_count": null,
      "metadata": {
        "colab": {
          "base_uri": "https://localhost:8080/"
        },
        "id": "_yyGJI728dy-",
        "outputId": "7c5c31e6-e6a7-418d-baec-be1a27ab62c8"
      },
      "outputs": [
        {
          "data": {
            "text/plain": [
              "['gdrive/MyDrive/UTOPIA/Hisham/Example_dataset/five_groups/D20160521T164054_IFCB107_00189.png',\n",
              " 'gdrive/MyDrive/UTOPIA/Hisham/Example_dataset/five_groups/D20160521T164054_IFCB107_02409.png',\n",
              " 'gdrive/MyDrive/UTOPIA/Hisham/Example_dataset/five_groups/D20160521T164054_IFCB107_00087.png',\n",
              " 'gdrive/MyDrive/UTOPIA/Hisham/Example_dataset/five_groups/D20160521T164054_IFCB107_02453.png',\n",
              " 'gdrive/MyDrive/UTOPIA/Hisham/Example_dataset/five_groups/D20160521T164054_IFCB107_02425.png']"
            ]
          },
          "execution_count": 11,
          "metadata": {},
          "output_type": "execute_result"
        }
      ],
      "source": [
        "# Tells us the relative path of the first 5 .png images\n",
        "png_files_gdrive[0:5]"
      ]
    },
    {
      "cell_type": "code",
      "execution_count": null,
      "metadata": {
        "colab": {
          "base_uri": "https://localhost:8080/"
        },
        "id": "1tXYrjShBHJM",
        "outputId": "e5558421-e64b-4946-b0b2-0eb24df9e636"
      },
      "outputs": [
        {
          "data": {
            "text/plain": [
              "5000"
            ]
          },
          "execution_count": 12,
          "metadata": {},
          "output_type": "execute_result"
        }
      ],
      "source": [
        "# Should be exactly 5000 .png images files (corresponds to the 5000 images in\n",
        "# the metadata)\n",
        "len(png_files_gdrive)"
      ]
    },
    {
      "cell_type": "markdown",
      "metadata": {
        "id": "6DyNIJcsXczv"
      },
      "source": [
        "Now, we combine the image names in the metadata with the .png relative paths of all the 5000 images"
      ]
    },
    {
      "cell_type": "code",
      "execution_count": null,
      "metadata": {
        "id": "JX04Izwrdicd"
      },
      "outputs": [],
      "source": [
        "'''\n",
        "  Create a dataframe with three cols/attributes: \n",
        "  png_name (called 'file_name' in the metadata), label, png_path\n",
        "\n",
        "  Example: \n",
        "    file_name: D20160521T164054_IFCB107_05202.png\n",
        "    label: oxy\n",
        "    png_path: gdrive/MyDrive/UTOPIA/Hisham/Example_dataset/five_groups/D20160521T164054_IFCB107_05202.png\n",
        "'''\n",
        "\n",
        "# Adds a column at the right of the dataset that stores the relative file path \n",
        "# of each image\n",
        "df['png_path'] = df['file_name'].apply(lambda row : os.path.join(SAMPLE_DATA_PATH, row))"
      ]
    },
    {
      "cell_type": "code",
      "execution_count": null,
      "metadata": {
        "colab": {
          "base_uri": "https://localhost:8080/",
          "height": 424
        },
        "id": "mArGoM2E2xpR",
        "outputId": "a3e4a9a2-1203-48f1-e7d4-e2734dd1e6d9"
      },
      "outputs": [
        {
          "data": {
            "text/html": [
              "\n",
              "  <div id=\"df-2d668d2e-3b41-4c3c-8c1d-ae1aa223bf62\">\n",
              "    <div class=\"colab-df-container\">\n",
              "      <div>\n",
              "<style scoped>\n",
              "    .dataframe tbody tr th:only-of-type {\n",
              "        vertical-align: middle;\n",
              "    }\n",
              "\n",
              "    .dataframe tbody tr th {\n",
              "        vertical-align: top;\n",
              "    }\n",
              "\n",
              "    .dataframe thead th {\n",
              "        text-align: right;\n",
              "    }\n",
              "</style>\n",
              "<table border=\"1\" class=\"dataframe\">\n",
              "  <thead>\n",
              "    <tr style=\"text-align: right;\">\n",
              "      <th></th>\n",
              "      <th>file_name</th>\n",
              "      <th>label</th>\n",
              "      <th>png_path</th>\n",
              "    </tr>\n",
              "  </thead>\n",
              "  <tbody>\n",
              "    <tr>\n",
              "      <th>0</th>\n",
              "      <td>D20160519T234121_IFCB107_00018.png</td>\n",
              "      <td>chae</td>\n",
              "      <td>gdrive/MyDrive/UTOPIA/Hisham/Example_dataset/f...</td>\n",
              "    </tr>\n",
              "    <tr>\n",
              "      <th>1</th>\n",
              "      <td>D20160519T234121_IFCB107_00137.png</td>\n",
              "      <td>chae</td>\n",
              "      <td>gdrive/MyDrive/UTOPIA/Hisham/Example_dataset/f...</td>\n",
              "    </tr>\n",
              "    <tr>\n",
              "      <th>2</th>\n",
              "      <td>D20160519T234121_IFCB107_00156.png</td>\n",
              "      <td>chae</td>\n",
              "      <td>gdrive/MyDrive/UTOPIA/Hisham/Example_dataset/f...</td>\n",
              "    </tr>\n",
              "    <tr>\n",
              "      <th>3</th>\n",
              "      <td>D20160519T234121_IFCB107_00175.png</td>\n",
              "      <td>chae</td>\n",
              "      <td>gdrive/MyDrive/UTOPIA/Hisham/Example_dataset/f...</td>\n",
              "    </tr>\n",
              "    <tr>\n",
              "      <th>4</th>\n",
              "      <td>D20160519T234121_IFCB107_00378.png</td>\n",
              "      <td>chae</td>\n",
              "      <td>gdrive/MyDrive/UTOPIA/Hisham/Example_dataset/f...</td>\n",
              "    </tr>\n",
              "    <tr>\n",
              "      <th>...</th>\n",
              "      <td>...</td>\n",
              "      <td>...</td>\n",
              "      <td>...</td>\n",
              "    </tr>\n",
              "    <tr>\n",
              "      <th>4995</th>\n",
              "      <td>D20160521T164054_IFCB107_03214.png</td>\n",
              "      <td>oxy</td>\n",
              "      <td>gdrive/MyDrive/UTOPIA/Hisham/Example_dataset/f...</td>\n",
              "    </tr>\n",
              "    <tr>\n",
              "      <th>4996</th>\n",
              "      <td>D20160521T164054_IFCB107_03437.png</td>\n",
              "      <td>oxy</td>\n",
              "      <td>gdrive/MyDrive/UTOPIA/Hisham/Example_dataset/f...</td>\n",
              "    </tr>\n",
              "    <tr>\n",
              "      <th>4997</th>\n",
              "      <td>D20160521T164054_IFCB107_04189.png</td>\n",
              "      <td>oxy</td>\n",
              "      <td>gdrive/MyDrive/UTOPIA/Hisham/Example_dataset/f...</td>\n",
              "    </tr>\n",
              "    <tr>\n",
              "      <th>4998</th>\n",
              "      <td>D20160521T164054_IFCB107_04221.png</td>\n",
              "      <td>oxy</td>\n",
              "      <td>gdrive/MyDrive/UTOPIA/Hisham/Example_dataset/f...</td>\n",
              "    </tr>\n",
              "    <tr>\n",
              "      <th>4999</th>\n",
              "      <td>D20160521T164054_IFCB107_04293.png</td>\n",
              "      <td>oxy</td>\n",
              "      <td>gdrive/MyDrive/UTOPIA/Hisham/Example_dataset/f...</td>\n",
              "    </tr>\n",
              "  </tbody>\n",
              "</table>\n",
              "<p>5000 rows × 3 columns</p>\n",
              "</div>\n",
              "      <button class=\"colab-df-convert\" onclick=\"convertToInteractive('df-2d668d2e-3b41-4c3c-8c1d-ae1aa223bf62')\"\n",
              "              title=\"Convert this dataframe to an interactive table.\"\n",
              "              style=\"display:none;\">\n",
              "        \n",
              "  <svg xmlns=\"http://www.w3.org/2000/svg\" height=\"24px\"viewBox=\"0 0 24 24\"\n",
              "       width=\"24px\">\n",
              "    <path d=\"M0 0h24v24H0V0z\" fill=\"none\"/>\n",
              "    <path d=\"M18.56 5.44l.94 2.06.94-2.06 2.06-.94-2.06-.94-.94-2.06-.94 2.06-2.06.94zm-11 1L8.5 8.5l.94-2.06 2.06-.94-2.06-.94L8.5 2.5l-.94 2.06-2.06.94zm10 10l.94 2.06.94-2.06 2.06-.94-2.06-.94-.94-2.06-.94 2.06-2.06.94z\"/><path d=\"M17.41 7.96l-1.37-1.37c-.4-.4-.92-.59-1.43-.59-.52 0-1.04.2-1.43.59L10.3 9.45l-7.72 7.72c-.78.78-.78 2.05 0 2.83L4 21.41c.39.39.9.59 1.41.59.51 0 1.02-.2 1.41-.59l7.78-7.78 2.81-2.81c.8-.78.8-2.07 0-2.86zM5.41 20L4 18.59l7.72-7.72 1.47 1.35L5.41 20z\"/>\n",
              "  </svg>\n",
              "      </button>\n",
              "      \n",
              "  <style>\n",
              "    .colab-df-container {\n",
              "      display:flex;\n",
              "      flex-wrap:wrap;\n",
              "      gap: 12px;\n",
              "    }\n",
              "\n",
              "    .colab-df-convert {\n",
              "      background-color: #E8F0FE;\n",
              "      border: none;\n",
              "      border-radius: 50%;\n",
              "      cursor: pointer;\n",
              "      display: none;\n",
              "      fill: #1967D2;\n",
              "      height: 32px;\n",
              "      padding: 0 0 0 0;\n",
              "      width: 32px;\n",
              "    }\n",
              "\n",
              "    .colab-df-convert:hover {\n",
              "      background-color: #E2EBFA;\n",
              "      box-shadow: 0px 1px 2px rgba(60, 64, 67, 0.3), 0px 1px 3px 1px rgba(60, 64, 67, 0.15);\n",
              "      fill: #174EA6;\n",
              "    }\n",
              "\n",
              "    [theme=dark] .colab-df-convert {\n",
              "      background-color: #3B4455;\n",
              "      fill: #D2E3FC;\n",
              "    }\n",
              "\n",
              "    [theme=dark] .colab-df-convert:hover {\n",
              "      background-color: #434B5C;\n",
              "      box-shadow: 0px 1px 3px 1px rgba(0, 0, 0, 0.15);\n",
              "      filter: drop-shadow(0px 1px 2px rgba(0, 0, 0, 0.3));\n",
              "      fill: #FFFFFF;\n",
              "    }\n",
              "  </style>\n",
              "\n",
              "      <script>\n",
              "        const buttonEl =\n",
              "          document.querySelector('#df-2d668d2e-3b41-4c3c-8c1d-ae1aa223bf62 button.colab-df-convert');\n",
              "        buttonEl.style.display =\n",
              "          google.colab.kernel.accessAllowed ? 'block' : 'none';\n",
              "\n",
              "        async function convertToInteractive(key) {\n",
              "          const element = document.querySelector('#df-2d668d2e-3b41-4c3c-8c1d-ae1aa223bf62');\n",
              "          const dataTable =\n",
              "            await google.colab.kernel.invokeFunction('convertToInteractive',\n",
              "                                                     [key], {});\n",
              "          if (!dataTable) return;\n",
              "\n",
              "          const docLinkHtml = 'Like what you see? Visit the ' +\n",
              "            '<a target=\"_blank\" href=https://colab.research.google.com/notebooks/data_table.ipynb>data table notebook</a>'\n",
              "            + ' to learn more about interactive tables.';\n",
              "          element.innerHTML = '';\n",
              "          dataTable['output_type'] = 'display_data';\n",
              "          await google.colab.output.renderOutput(dataTable, element);\n",
              "          const docLink = document.createElement('div');\n",
              "          docLink.innerHTML = docLinkHtml;\n",
              "          element.appendChild(docLink);\n",
              "        }\n",
              "      </script>\n",
              "    </div>\n",
              "  </div>\n",
              "  "
            ],
            "text/plain": [
              "                               file_name label  \\\n",
              "0     D20160519T234121_IFCB107_00018.png  chae   \n",
              "1     D20160519T234121_IFCB107_00137.png  chae   \n",
              "2     D20160519T234121_IFCB107_00156.png  chae   \n",
              "3     D20160519T234121_IFCB107_00175.png  chae   \n",
              "4     D20160519T234121_IFCB107_00378.png  chae   \n",
              "...                                  ...   ...   \n",
              "4995  D20160521T164054_IFCB107_03214.png   oxy   \n",
              "4996  D20160521T164054_IFCB107_03437.png   oxy   \n",
              "4997  D20160521T164054_IFCB107_04189.png   oxy   \n",
              "4998  D20160521T164054_IFCB107_04221.png   oxy   \n",
              "4999  D20160521T164054_IFCB107_04293.png   oxy   \n",
              "\n",
              "                                               png_path  \n",
              "0     gdrive/MyDrive/UTOPIA/Hisham/Example_dataset/f...  \n",
              "1     gdrive/MyDrive/UTOPIA/Hisham/Example_dataset/f...  \n",
              "2     gdrive/MyDrive/UTOPIA/Hisham/Example_dataset/f...  \n",
              "3     gdrive/MyDrive/UTOPIA/Hisham/Example_dataset/f...  \n",
              "4     gdrive/MyDrive/UTOPIA/Hisham/Example_dataset/f...  \n",
              "...                                                 ...  \n",
              "4995  gdrive/MyDrive/UTOPIA/Hisham/Example_dataset/f...  \n",
              "4996  gdrive/MyDrive/UTOPIA/Hisham/Example_dataset/f...  \n",
              "4997  gdrive/MyDrive/UTOPIA/Hisham/Example_dataset/f...  \n",
              "4998  gdrive/MyDrive/UTOPIA/Hisham/Example_dataset/f...  \n",
              "4999  gdrive/MyDrive/UTOPIA/Hisham/Example_dataset/f...  \n",
              "\n",
              "[5000 rows x 3 columns]"
            ]
          },
          "execution_count": 14,
          "metadata": {},
          "output_type": "execute_result"
        }
      ],
      "source": [
        "df # Verifies the correct data frame (should be 3 columns: [file_name, label, png_path])"
      ]
    },
    {
      "cell_type": "markdown",
      "metadata": {
        "id": "DtvrVNIH_J5m"
      },
      "source": [
        "## Preprocessing Image Inputs\n",
        "\n",
        "This function prepares images for the ML classification network by squarring and padding images taken as input\n",
        "\n",
        "This function was directly copied from Emmett's data_io_function_library. A full copy of his classification program can be found at:\n",
        "https://drive.google.com/file/d/1xlVvZ-xy7RxfrGUbwAmERZ3rxqoUsq1f/view?usp=sharing"
      ]
    },
    {
      "cell_type": "code",
      "execution_count": null,
      "metadata": {
        "id": "LsVYXu6htfKC"
      },
      "outputs": [],
      "source": [
        "'''\n",
        "  Squares and pads images to 128x128 pixels to prepare them for the neural network\n",
        "'''\n",
        "\n",
        "import cv2\n",
        "\n",
        "def preprocess_input(image):\n",
        "\n",
        "    fixed_size = 128 # Final image should be 128 x 128\n",
        "    image_size = image.shape[:2] # Gets the (y_dim, x_dim) for each image\n",
        "\n",
        "    # The ratio needed to make the longest side of the image 128 pixels\n",
        "    ratio = float(fixed_size)/max(image_size)\n",
        "\n",
        "    # Calculates the new size by multiplying each dimension by the ratio\n",
        "    new_size = tuple([int(x*ratio) for x in image_size])\n",
        "\n",
        "    # Resizes the image to the new size\n",
        "    img = cv2.resize(image, (new_size[1], new_size[0]))\n",
        "\n",
        "    # Calculates the possible padding needed for the x and y dimensions\n",
        "    delta_w = fixed_size - new_size[1]\n",
        "    delta_h = fixed_size - new_size[0]\n",
        "    top, bottom = delta_h//2, delta_h-(delta_h//2)\n",
        "    left, right = delta_w//2, delta_w-(delta_w//2)\n",
        "\n",
        "    # Makes a black border of 128x128 pixels around the image, so either\n",
        "    # dimension less than 128 would be padded to 128\n",
        "    color = [0, 0, 0] # RGB = 0,0,0 -> Black\n",
        "    rescaled_image = cv2.copyMakeBorder(img, top, bottom, left, right, cv2.BORDER_CONSTANT, value=color)\n",
        "    return(rescaled_image)"
      ]
    },
    {
      "cell_type": "markdown",
      "metadata": {
        "id": "4x5cyA5Q_XKY"
      },
      "source": [
        "## Preprocess Phytoplankton Images\n",
        "\n",
        "Here we use the defined function above to preprocess the images of phytoplankton samples for the neural network. \n",
        "\n",
        "We save the attributes (dimensions, grayscale, etc.) of each image as a 4 dimensional array"
      ]
    },
    {
      "cell_type": "code",
      "execution_count": 12,
      "metadata": {
        "colab": {
          "base_uri": "https://localhost:8080/"
        },
        "id": "7rMl2kDs3Ta6",
        "outputId": "8df67b98-f714-4219-a155-ced47bab7a03"
      },
      "outputs": [
        {
          "output_type": "execute_result",
          "data": {
            "text/plain": [
              "0       chae\n",
              "1       chae\n",
              "2       chae\n",
              "3       chae\n",
              "4       chae\n",
              "        ... \n",
              "4995     oxy\n",
              "4996     oxy\n",
              "4997     oxy\n",
              "4998     oxy\n",
              "4999     oxy\n",
              "Name: label, Length: 5000, dtype: object"
            ]
          },
          "metadata": {},
          "execution_count": 12
        }
      ],
      "source": [
        "# Holds just the indexed labelling of images in the sample\n",
        "image_labels = df.label\n",
        "\n",
        "image_labels # For verification"
      ]
    },
    {
      "cell_type": "code",
      "execution_count": null,
      "metadata": {
        "colab": {
          "base_uri": "https://localhost:8080/"
        },
        "id": "-BdTZYIVHF9t",
        "outputId": "889074bf-a626-4fc1-df49-d33634287c95"
      },
      "outputs": [
        {
          "data": {
            "text/plain": [
              "0       gdrive/MyDrive/UTOPIA/Hisham/Example_dataset/f...\n",
              "1       gdrive/MyDrive/UTOPIA/Hisham/Example_dataset/f...\n",
              "2       gdrive/MyDrive/UTOPIA/Hisham/Example_dataset/f...\n",
              "3       gdrive/MyDrive/UTOPIA/Hisham/Example_dataset/f...\n",
              "4       gdrive/MyDrive/UTOPIA/Hisham/Example_dataset/f...\n",
              "                              ...                        \n",
              "4995    gdrive/MyDrive/UTOPIA/Hisham/Example_dataset/f...\n",
              "4996    gdrive/MyDrive/UTOPIA/Hisham/Example_dataset/f...\n",
              "4997    gdrive/MyDrive/UTOPIA/Hisham/Example_dataset/f...\n",
              "4998    gdrive/MyDrive/UTOPIA/Hisham/Example_dataset/f...\n",
              "4999    gdrive/MyDrive/UTOPIA/Hisham/Example_dataset/f...\n",
              "Name: png_path, Length: 5000, dtype: object"
            ]
          },
          "execution_count": 17,
          "metadata": {},
          "output_type": "execute_result"
        }
      ],
      "source": [
        "# Verifies the proper full path for the images in the sample\n",
        "filename = df['png_path']\n",
        "\n",
        "filename"
      ]
    },
    {
      "cell_type": "code",
      "execution_count": null,
      "metadata": {
        "colab": {
          "base_uri": "https://localhost:8080/",
          "height": 228
        },
        "id": "FzBjjlOyHXLk",
        "outputId": "4a5b6987-c217-4d3f-810e-94cf30edbaab"
      },
      "outputs": [
        {
          "data": {
            "text/plain": [
              "Text(0.5, 1.0, 'dino')"
            ]
          },
          "execution_count": 18,
          "metadata": {},
          "output_type": "execute_result"
        },
        {
          "data": {
            "image/png": "[encoded data removed]",
            "text/plain": [
              "<Figure size 432x288 with 1 Axes>"
            ]
          },
          "metadata": {},
          "output_type": "display_data"
        }
      ],
      "source": [
        "# Displays an example image and label\n",
        "image = cv2.imread(filename.iloc[2499]) # 2500th image\n",
        "rescaled_image = preprocess_input(image)\n",
        "\n",
        "# Prints image and then the label from the metadata\n",
        "plt.figure()\n",
        "plt.imshow(image)\n",
        "plt.title(image_labels.iloc[2499])"
      ]
    },
    {
      "cell_type": "code",
      "execution_count": null,
      "metadata": {
        "id": "bd55cKId5AM_"
      },
      "outputs": [],
      "source": [
        "# Preprocesses ALL the images in the sample, and compiles all the images into a dataset\n",
        "# NOTE: This function is the meat of the program, so it may take awhile (the \n",
        "# last run took 53 min).\n",
        "dataset = []\n",
        "for filename, label in zip(df['png_path'],image_labels):\n",
        "  image = cv2.imread(filename)\n",
        "  rescaled_image = preprocess_input(image)\n",
        "  dataset.append(rescaled_image)"
      ]
    },
    {
      "cell_type": "code",
      "execution_count": null,
      "metadata": {
        "colab": {
          "base_uri": "https://localhost:8080/"
        },
        "id": "DU35FyA8IsEY",
        "outputId": "85487ab7-3648-488e-9eaf-b90a69e299c5"
      },
      "outputs": [
        {
          "data": {
            "text/plain": [
              "5000"
            ]
          },
          "execution_count": 20,
          "metadata": {},
          "output_type": "execute_result"
        }
      ],
      "source": [
        "len(dataset) # Should match the number of images in the sample"
      ]
    },
    {
      "cell_type": "code",
      "execution_count": null,
      "metadata": {
        "id": "z45c3VX9Kug3"
      },
      "outputs": [],
      "source": [
        "# Creates a stacked 4D array from the dataset\n",
        "# dataset_4d = (# of Images, x dim = 128, y dim = 128, # of color inputs in RGB = 3)\n",
        "dataset_4d = np.array(dataset)"
      ]
    },
    {
      "cell_type": "code",
      "execution_count": null,
      "metadata": {
        "id": "8TGkNsuILyCO"
      },
      "outputs": [],
      "source": [
        "import numpy as np # For arrays (.npy is a numpy object)\n",
        "\n",
        "# Saves the preprocessed images so we don't need to re-process every time\n",
        "np.save(os.path.join(OUTPUT_PATH,\"fivegroups_dataset_4d_10000.npy\"),dataset_4d)"
      ]
    },
    {
      "cell_type": "code",
      "execution_count": 7,
      "metadata": {
        "id": "IEHjvtZqGmTH"
      },
      "outputs": [],
      "source": [
        "# Loads the data from the file\n",
        "dataset_4d = np.load('/content/gdrive/MyDrive/UTOPIA/Outputs/fivegroups_dataset_4d_10000.npy')"
      ]
    },
    {
      "cell_type": "code",
      "execution_count": null,
      "metadata": {
        "colab": {
          "base_uri": "https://localhost:8080/",
          "height": 299
        },
        "id": "Xj12U_T2bIs-",
        "outputId": "1c577141-b555-455f-d01a-45eccdcf49f3"
      },
      "outputs": [
        {
          "data": {
            "text/plain": [
              "Text(0.5, 1.0, 'dino')"
            ]
          },
          "execution_count": 9,
          "metadata": {},
          "output_type": "execute_result"
        },
        {
          "data": {
            "image/png": "[encoded data removed]",
            "text/plain": [
              "<Figure size 432x288 with 1 Axes>"
            ]
          },
          "metadata": {},
          "output_type": "display_data"
        }
      ],
      "source": [
        "# Example: Displays the image and classification of the 2500th phytoplankton \n",
        "#          collected in the sample\n",
        "plt.figure()\n",
        "plt.imshow(dataset_4d[2499])\n",
        "plt.title(str(image_labels.iloc[2499]))"
      ]
    },
    {
      "cell_type": "markdown",
      "metadata": {
        "id": "ctGtKQ6-Pjt0"
      },
      "source": [
        "## Build the ML Model\n",
        "\n",
        "Here we borrow from the MNIST model, and adapt that network to fit with the phytoplankton data.\n",
        "\n",
        "We have to first process the data by dividing it into train/test and extract important parameters. Then we build the ML model using TensorFlow.\n",
        "\n",
        "Note: The digit example model uses RGB images while the phytoplankton are grayscaled. We must remove that parameter before building the network."
      ]
    },
    {
      "cell_type": "code",
      "execution_count": 8,
      "metadata": {
        "id": "ebjOcvYzVknN"
      },
      "outputs": [],
      "source": [
        "# Model/Data Parameters\n",
        "num_classes = 5 # 5 Types of Phytoplankton\n",
        "input_shape = (128, 128, 1) # (128 x pixels, 128 y pixels, 1 grayscale num)"
      ]
    },
    {
      "cell_type": "code",
      "execution_count": 13,
      "metadata": {
        "colab": {
          "base_uri": "https://localhost:8080/",
          "height": 424
        },
        "id": "JVyp18T-YyZP",
        "outputId": "a68c1e98-9147-4943-8fc1-4ebb738770e6"
      },
      "outputs": [
        {
          "output_type": "execute_result",
          "data": {
            "text/plain": [
              "      chae  crypt  dino  eug  oxy\n",
              "0        1      0     0    0    0\n",
              "1        1      0     0    0    0\n",
              "2        1      0     0    0    0\n",
              "3        1      0     0    0    0\n",
              "4        1      0     0    0    0\n",
              "...    ...    ...   ...  ...  ...\n",
              "4995     0      0     0    0    1\n",
              "4996     0      0     0    0    1\n",
              "4997     0      0     0    0    1\n",
              "4998     0      0     0    0    1\n",
              "4999     0      0     0    0    1\n",
              "\n",
              "[5000 rows x 5 columns]"
            ],
            "text/html": [
              "\n",
              "  <div id=\"df-197def1d-7657-42c9-8465-acc54b9c8061\">\n",
              "    <div class=\"colab-df-container\">\n",
              "      <div>\n",
              "<style scoped>\n",
              "    .dataframe tbody tr th:only-of-type {\n",
              "        vertical-align: middle;\n",
              "    }\n",
              "\n",
              "    .dataframe tbody tr th {\n",
              "        vertical-align: top;\n",
              "    }\n",
              "\n",
              "    .dataframe thead th {\n",
              "        text-align: right;\n",
              "    }\n",
              "</style>\n",
              "<table border=\"1\" class=\"dataframe\">\n",
              "  <thead>\n",
              "    <tr style=\"text-align: right;\">\n",
              "      <th></th>\n",
              "      <th>chae</th>\n",
              "      <th>crypt</th>\n",
              "      <th>dino</th>\n",
              "      <th>eug</th>\n",
              "      <th>oxy</th>\n",
              "    </tr>\n",
              "  </thead>\n",
              "  <tbody>\n",
              "    <tr>\n",
              "      <th>0</th>\n",
              "      <td>1</td>\n",
              "      <td>0</td>\n",
              "      <td>0</td>\n",
              "      <td>0</td>\n",
              "      <td>0</td>\n",
              "    </tr>\n",
              "    <tr>\n",
              "      <th>1</th>\n",
              "      <td>1</td>\n",
              "      <td>0</td>\n",
              "      <td>0</td>\n",
              "      <td>0</td>\n",
              "      <td>0</td>\n",
              "    </tr>\n",
              "    <tr>\n",
              "      <th>2</th>\n",
              "      <td>1</td>\n",
              "      <td>0</td>\n",
              "      <td>0</td>\n",
              "      <td>0</td>\n",
              "      <td>0</td>\n",
              "    </tr>\n",
              "    <tr>\n",
              "      <th>3</th>\n",
              "      <td>1</td>\n",
              "      <td>0</td>\n",
              "      <td>0</td>\n",
              "      <td>0</td>\n",
              "      <td>0</td>\n",
              "    </tr>\n",
              "    <tr>\n",
              "      <th>4</th>\n",
              "      <td>1</td>\n",
              "      <td>0</td>\n",
              "      <td>0</td>\n",
              "      <td>0</td>\n",
              "      <td>0</td>\n",
              "    </tr>\n",
              "    <tr>\n",
              "      <th>...</th>\n",
              "      <td>...</td>\n",
              "      <td>...</td>\n",
              "      <td>...</td>\n",
              "      <td>...</td>\n",
              "      <td>...</td>\n",
              "    </tr>\n",
              "    <tr>\n",
              "      <th>4995</th>\n",
              "      <td>0</td>\n",
              "      <td>0</td>\n",
              "      <td>0</td>\n",
              "      <td>0</td>\n",
              "      <td>1</td>\n",
              "    </tr>\n",
              "    <tr>\n",
              "      <th>4996</th>\n",
              "      <td>0</td>\n",
              "      <td>0</td>\n",
              "      <td>0</td>\n",
              "      <td>0</td>\n",
              "      <td>1</td>\n",
              "    </tr>\n",
              "    <tr>\n",
              "      <th>4997</th>\n",
              "      <td>0</td>\n",
              "      <td>0</td>\n",
              "      <td>0</td>\n",
              "      <td>0</td>\n",
              "      <td>1</td>\n",
              "    </tr>\n",
              "    <tr>\n",
              "      <th>4998</th>\n",
              "      <td>0</td>\n",
              "      <td>0</td>\n",
              "      <td>0</td>\n",
              "      <td>0</td>\n",
              "      <td>1</td>\n",
              "    </tr>\n",
              "    <tr>\n",
              "      <th>4999</th>\n",
              "      <td>0</td>\n",
              "      <td>0</td>\n",
              "      <td>0</td>\n",
              "      <td>0</td>\n",
              "      <td>1</td>\n",
              "    </tr>\n",
              "  </tbody>\n",
              "</table>\n",
              "<p>5000 rows × 5 columns</p>\n",
              "</div>\n",
              "      <button class=\"colab-df-convert\" onclick=\"convertToInteractive('df-197def1d-7657-42c9-8465-acc54b9c8061')\"\n",
              "              title=\"Convert this dataframe to an interactive table.\"\n",
              "              style=\"display:none;\">\n",
              "        \n",
              "  <svg xmlns=\"http://www.w3.org/2000/svg\" height=\"24px\"viewBox=\"0 0 24 24\"\n",
              "       width=\"24px\">\n",
              "    <path d=\"M0 0h24v24H0V0z\" fill=\"none\"/>\n",
              "    <path d=\"M18.56 5.44l.94 2.06.94-2.06 2.06-.94-2.06-.94-.94-2.06-.94 2.06-2.06.94zm-11 1L8.5 8.5l.94-2.06 2.06-.94-2.06-.94L8.5 2.5l-.94 2.06-2.06.94zm10 10l.94 2.06.94-2.06 2.06-.94-2.06-.94-.94-2.06-.94 2.06-2.06.94z\"/><path d=\"M17.41 7.96l-1.37-1.37c-.4-.4-.92-.59-1.43-.59-.52 0-1.04.2-1.43.59L10.3 9.45l-7.72 7.72c-.78.78-.78 2.05 0 2.83L4 21.41c.39.39.9.59 1.41.59.51 0 1.02-.2 1.41-.59l7.78-7.78 2.81-2.81c.8-.78.8-2.07 0-2.86zM5.41 20L4 18.59l7.72-7.72 1.47 1.35L5.41 20z\"/>\n",
              "  </svg>\n",
              "      </button>\n",
              "      \n",
              "  <style>\n",
              "    .colab-df-container {\n",
              "      display:flex;\n",
              "      flex-wrap:wrap;\n",
              "      gap: 12px;\n",
              "    }\n",
              "\n",
              "    .colab-df-convert {\n",
              "      background-color: #E8F0FE;\n",
              "      border: none;\n",
              "      border-radius: 50%;\n",
              "      cursor: pointer;\n",
              "      display: none;\n",
              "      fill: #1967D2;\n",
              "      height: 32px;\n",
              "      padding: 0 0 0 0;\n",
              "      width: 32px;\n",
              "    }\n",
              "\n",
              "    .colab-df-convert:hover {\n",
              "      background-color: #E2EBFA;\n",
              "      box-shadow: 0px 1px 2px rgba(60, 64, 67, 0.3), 0px 1px 3px 1px rgba(60, 64, 67, 0.15);\n",
              "      fill: #174EA6;\n",
              "    }\n",
              "\n",
              "    [theme=dark] .colab-df-convert {\n",
              "      background-color: #3B4455;\n",
              "      fill: #D2E3FC;\n",
              "    }\n",
              "\n",
              "    [theme=dark] .colab-df-convert:hover {\n",
              "      background-color: #434B5C;\n",
              "      box-shadow: 0px 1px 3px 1px rgba(0, 0, 0, 0.15);\n",
              "      filter: drop-shadow(0px 1px 2px rgba(0, 0, 0, 0.3));\n",
              "      fill: #FFFFFF;\n",
              "    }\n",
              "  </style>\n",
              "\n",
              "      <script>\n",
              "        const buttonEl =\n",
              "          document.querySelector('#df-197def1d-7657-42c9-8465-acc54b9c8061 button.colab-df-convert');\n",
              "        buttonEl.style.display =\n",
              "          google.colab.kernel.accessAllowed ? 'block' : 'none';\n",
              "\n",
              "        async function convertToInteractive(key) {\n",
              "          const element = document.querySelector('#df-197def1d-7657-42c9-8465-acc54b9c8061');\n",
              "          const dataTable =\n",
              "            await google.colab.kernel.invokeFunction('convertToInteractive',\n",
              "                                                     [key], {});\n",
              "          if (!dataTable) return;\n",
              "\n",
              "          const docLinkHtml = 'Like what you see? Visit the ' +\n",
              "            '<a target=\"_blank\" href=https://colab.research.google.com/notebooks/data_table.ipynb>data table notebook</a>'\n",
              "            + ' to learn more about interactive tables.';\n",
              "          element.innerHTML = '';\n",
              "          dataTable['output_type'] = 'display_data';\n",
              "          await google.colab.output.renderOutput(dataTable, element);\n",
              "          const docLink = document.createElement('div');\n",
              "          docLink.innerHTML = docLinkHtml;\n",
              "          element.appendChild(docLink);\n",
              "        }\n",
              "      </script>\n",
              "    </div>\n",
              "  </div>\n",
              "  "
            ]
          },
          "metadata": {},
          "execution_count": 13
        }
      ],
      "source": [
        "'''\n",
        "  Converts class vectors to binary class matrices\n",
        "\n",
        "  Example: If image_labels[34] = 'Diatom', then we would create an array\n",
        "           [0, 0, 0, 1, 0], where the index 3 represents\n",
        "           'Diatom' and a 1 classifies the image as such\n",
        "\n",
        "'''\n",
        "image_label_dummys = pd.get_dummies(image_labels)\n",
        "\n",
        "image_label_dummys # Displays the classification"
      ]
    },
    {
      "cell_type": "code",
      "execution_count": 14,
      "metadata": {
        "colab": {
          "base_uri": "https://localhost:8080/"
        },
        "id": "7H3w6BCTaC0K",
        "outputId": "962a04ab-ea4a-4aaa-d05c-003b9e6d24ab"
      },
      "outputs": [
        {
          "output_type": "execute_result",
          "data": {
            "text/plain": [
              "chae     1000\n",
              "crypt    1000\n",
              "dino     1000\n",
              "eug      1000\n",
              "oxy      1000\n",
              "Name: label, dtype: int64"
            ]
          },
          "metadata": {},
          "execution_count": 14
        }
      ],
      "source": [
        "# Frequency distribution of the Phytoplankton labels in the sample\n",
        "# Should be 1000 of each\n",
        "image_labels.value_counts()"
      ]
    },
    {
      "cell_type": "code",
      "execution_count": 15,
      "metadata": {
        "colab": {
          "base_uri": "https://localhost:8080/",
          "height": 298
        },
        "id": "vaWJjYcuaRl_",
        "outputId": "9f466528-ad2a-4253-f7eb-fc81d1a7b8ce"
      },
      "outputs": [
        {
          "output_type": "execute_result",
          "data": {
            "text/plain": [
              "([0, 1, 2, 3, 4], <a list of 5 Text major ticklabel objects>)"
            ]
          },
          "metadata": {},
          "execution_count": 15
        },
        {
          "output_type": "display_data",
          "data": {
            "text/plain": [
              "<Figure size 432x288 with 1 Axes>"
            ],
            "image/png": "[encoded data removed]"
          },
          "metadata": {
            "needs_background": "light"
          }
        }
      ],
      "source": [
        "# Displays the distribution of Phytoplankton types graphically\n",
        "image_labels.hist(bins=5) # 5 types of phytoplankton\n",
        "plt.xticks(rotation = 45)"
      ]
    },
    {
      "cell_type": "code",
      "execution_count": 17,
      "metadata": {
        "colab": {
          "base_uri": "https://localhost:8080/"
        },
        "id": "fk_6nWhKShOV",
        "outputId": "38dd28a7-57b8-46d3-d54e-9c5f49e09eea"
      },
      "outputs": [
        {
          "output_type": "execute_result",
          "data": {
            "text/plain": [
              "(5000, 128, 128)"
            ]
          },
          "metadata": {},
          "execution_count": 17
        }
      ],
      "source": [
        "# Converts image to grayscale and not RGB -> Loses the last parameter\n",
        "dataset_3d = dataset_4d[:,:,:,0] # Zeroes out the last parameter\n",
        "\n",
        "# To compare\n",
        "dataset_4d.shape\n",
        "dataset_3d.shape"
      ]
    },
    {
      "cell_type": "code",
      "execution_count": 18,
      "metadata": {
        "colab": {
          "base_uri": "https://localhost:8080/",
          "height": 285
        },
        "id": "eeS1OybPW0kr",
        "outputId": "b9a110ab-ecf9-4328-ee23-a6a0f96569f5"
      },
      "outputs": [
        {
          "output_type": "execute_result",
          "data": {
            "text/plain": [
              "<matplotlib.image.AxesImage at 0x7f774bdae410>"
            ]
          },
          "metadata": {},
          "execution_count": 18
        },
        {
          "output_type": "display_data",
          "data": {
            "text/plain": [
              "<Figure size 432x288 with 1 Axes>"
            ],
            "image/png": "[encoded data removed]"
          },
          "metadata": {
            "needs_background": "light"
          }
        }
      ],
      "source": [
        "# Example: Shows the 2500th phytoplankton image in the sample, without the RGB \n",
        "#          parameters in dataset_4d (note: colors might look odd)\n",
        "plt.imshow(dataset_3d[2499,])"
      ]
    },
    {
      "cell_type": "code",
      "execution_count": 19,
      "metadata": {
        "id": "-ybEIS5gqpZ-"
      },
      "outputs": [],
      "source": [
        "'''\n",
        "  Splits the data into training and testing data\n",
        "  test_size = ratio of data that we use to evaluate model (1 - test_size is the ratio to train)\n",
        "  random_state = seed for the random number generator\n",
        "                 (ensures that multiple runthroughs have the same data initialization)\n",
        "'''\n",
        "\n",
        "from sklearn.model_selection import train_test_split\n",
        "\n",
        "x_train, x_test, y_train, y_test = train_test_split(dataset_3d, image_label_dummys, test_size=0.33, random_state=42)"
      ]
    },
    {
      "cell_type": "code",
      "execution_count": 20,
      "metadata": {
        "colab": {
          "base_uri": "https://localhost:8080/"
        },
        "id": "nz1IEuK4QO5a",
        "outputId": "03e0188b-4d0f-45af-bf6d-8f822dad1371"
      },
      "outputs": [
        {
          "output_type": "stream",
          "name": "stdout",
          "text": [
            "(3350, 128, 128)\n",
            "(1650, 128, 128)\n",
            "(3350, 5)\n",
            "(1650, 5)\n"
          ]
        }
      ],
      "source": [
        "# x means input, should be (# Images, 128 x pixels, 128 y pixels)\n",
        "print(x_train.shape)\n",
        "print(x_test.shape)\n",
        "\n",
        "# y means output, should be (# Images, # Classes = 5 Phytoplankton types)\n",
        "print(y_train.shape)\n",
        "print(y_test.shape)"
      ]
    },
    {
      "cell_type": "code",
      "execution_count": 21,
      "metadata": {
        "colab": {
          "base_uri": "https://localhost:8080/",
          "height": 285
        },
        "id": "NqNF3KjHQhuX",
        "outputId": "7a3df4f8-7f5c-49c0-f899-998e6f504e6d"
      },
      "outputs": [
        {
          "output_type": "execute_result",
          "data": {
            "text/plain": [
              "<matplotlib.image.AxesImage at 0x7f774bd32150>"
            ]
          },
          "metadata": {},
          "execution_count": 21
        },
        {
          "output_type": "display_data",
          "data": {
            "text/plain": [
              "<Figure size 432x288 with 1 Axes>"
            ],
            "image/png": "[encoded data removed]"
          },
          "metadata": {
            "needs_background": "light"
          }
        }
      ],
      "source": [
        "# Example of an input image to be trained by the network\n",
        "plt.imshow(x_train[25,:,:])"
      ]
    },
    {
      "cell_type": "code",
      "execution_count": 22,
      "metadata": {
        "colab": {
          "base_uri": "https://localhost:8080/"
        },
        "id": "rJLONT3CQixC",
        "outputId": "c4232fe7-b487-4100-f92a-0a8d00c55e81"
      },
      "outputs": [
        {
          "output_type": "stream",
          "name": "stdout",
          "text": [
            "x_train shape: (3350, 128, 128, 1)\n",
            "3350 train samples\n",
            "1650 test samples\n"
          ]
        }
      ],
      "source": [
        "'''\n",
        "\n",
        "  Here we scale and verify the image measurements\n",
        "\n",
        "  We want to convert the measurements in the input image to float32. 255 is\n",
        "  the maximum value of a byte (the input feature's type before conversion), so we\n",
        "  divide by 255 to scale the image between [0 and 1]. A value of 0-1 works well with\n",
        "  the default learning rate and other hyperparameters in the model\n",
        "\n",
        "  We also need to tune the images to have shape (128, 128, 1)\n",
        "'''\n",
        "\n",
        "# Scale images to the [0, 1] range\n",
        "x_train = x_train.astype(\"float32\") / 255\n",
        "x_test = x_test.astype(\"float32\") / 255\n",
        "\n",
        "# Make sure images have shape (128, 128, 1)\n",
        "x_train = np.expand_dims(x_train, -1)\n",
        "x_test = np.expand_dims(x_test, -1)\n",
        "print(\"x_train shape:\", x_train.shape)\n",
        "print(x_train.shape[0], \"train samples\")\n",
        "print(x_test.shape[0], \"test samples\")"
      ]
    },
    {
      "cell_type": "markdown",
      "metadata": {
        "id": "F8CileiZjayu"
      },
      "source": [
        "The model has two convolutional layers, which get flattened into a 1D layer of neurons fed into a direct connected neural network"
      ]
    },
    {
      "cell_type": "code",
      "execution_count": 16,
      "metadata": {
        "colab": {
          "base_uri": "https://localhost:8080/"
        },
        "id": "gpoX95y9jYCn",
        "outputId": "114a0d2b-c471-4dac-c7be-ebe13f258279"
      },
      "outputs": [
        {
          "output_type": "stream",
          "name": "stdout",
          "text": [
            "Model: \"sequential\"\n",
            "_________________________________________________________________\n",
            " Layer (type)                Output Shape              Param #   \n",
            "=================================================================\n",
            " conv2d (Conv2D)             (None, 126, 126, 32)      320       \n",
            "                                                                 \n",
            " max_pooling2d (MaxPooling2D  (None, 63, 63, 32)       0         \n",
            " )                                                               \n",
            "                                                                 \n",
            " conv2d_1 (Conv2D)           (None, 61, 61, 64)        18496     \n",
            "                                                                 \n",
            " max_pooling2d_1 (MaxPooling  (None, 30, 30, 64)       0         \n",
            " 2D)                                                             \n",
            "                                                                 \n",
            " flatten (Flatten)           (None, 57600)             0         \n",
            "                                                                 \n",
            " dropout (Dropout)           (None, 57600)             0         \n",
            "                                                                 \n",
            " dense (Dense)               (None, 5)                 288005    \n",
            "                                                                 \n",
            "=================================================================\n",
            "Total params: 306,821\n",
            "Trainable params: 306,821\n",
            "Non-trainable params: 0\n",
            "_________________________________________________________________\n"
          ]
        }
      ],
      "source": [
        "from tensorflow import keras\n",
        "from tensorflow.keras import layers\n",
        "\n",
        "model = keras.Sequential(\n",
        "    [\n",
        "        keras.Input(shape=input_shape),\n",
        "        layers.Conv2D(32, kernel_size=(3, 3), activation=\"relu\"), # 32 output filters\n",
        "        layers.MaxPooling2D(pool_size=(2, 2)),\n",
        "        layers.Conv2D(64, kernel_size=(3, 3), activation=\"relu\"), # 64 output filters\n",
        "        layers.MaxPooling2D(pool_size=(2, 2)),\n",
        "        layers.Flatten(),\n",
        "        layers.Dropout(0.5), # Each neuron has a 50% of turning off to prevent overfitting\n",
        "        layers.Dense(num_classes, activation=\"softmax\"),\n",
        "    ]\n",
        ")\n",
        "\n",
        "model.summary()"
      ]
    },
    {
      "cell_type": "markdown",
      "metadata": {
        "id": "nF-PaZHjaXIB"
      },
      "source": [
        "### Training the Model\n",
        "\n",
        "Here we use TensorFlow's built-in operations to train the model with our data"
      ]
    },
    {
      "cell_type": "code",
      "execution_count": 23,
      "metadata": {
        "colab": {
          "base_uri": "https://localhost:8080/"
        },
        "id": "MZJ2wWBOah1i",
        "outputId": "bd85ffb4-caa2-4e31-d23b-52d9c43cb92b"
      },
      "outputs": [
        {
          "output_type": "execute_result",
          "data": {
            "text/plain": [
              "(3350, 128, 128, 1)"
            ]
          },
          "metadata": {},
          "execution_count": 23
        }
      ],
      "source": [
        "x_train.shape # Verifying that our input data has the correct parameters"
      ]
    },
    {
      "cell_type": "code",
      "execution_count": 24,
      "metadata": {
        "colab": {
          "base_uri": "https://localhost:8080/"
        },
        "id": "Rjoo3fZYaTUK",
        "outputId": "f13e8543-ab95-49d6-cab5-8abfd0b2549a"
      },
      "outputs": [
        {
          "output_type": "stream",
          "name": "stdout",
          "text": [
            "Epoch 1/8\n",
            "536/536 [==============================] - 62s 115ms/step - loss: 0.9798 - accuracy: 0.6485 - val_loss: 0.6750 - val_accuracy: 0.7582\n",
            "Epoch 2/8\n",
            "536/536 [==============================] - 59s 111ms/step - loss: 0.5805 - accuracy: 0.8026 - val_loss: 0.5890 - val_accuracy: 0.7851\n",
            "Epoch 3/8\n",
            "536/536 [==============================] - 61s 115ms/step - loss: 0.4923 - accuracy: 0.8369 - val_loss: 0.5655 - val_accuracy: 0.8090\n",
            "Epoch 4/8\n",
            "536/536 [==============================] - 62s 115ms/step - loss: 0.4237 - accuracy: 0.8578 - val_loss: 0.5247 - val_accuracy: 0.8373\n",
            "Epoch 5/8\n",
            "536/536 [==============================] - 59s 111ms/step - loss: 0.3783 - accuracy: 0.8832 - val_loss: 0.5048 - val_accuracy: 0.8328\n",
            "Epoch 6/8\n",
            "536/536 [==============================] - 61s 114ms/step - loss: 0.3429 - accuracy: 0.8888 - val_loss: 0.4752 - val_accuracy: 0.8418\n",
            "Epoch 7/8\n",
            "536/536 [==============================] - 59s 111ms/step - loss: 0.2962 - accuracy: 0.9063 - val_loss: 0.5253 - val_accuracy: 0.8239\n",
            "Epoch 8/8\n",
            "536/536 [==============================] - 61s 114ms/step - loss: 0.2714 - accuracy: 0.9119 - val_loss: 0.4915 - val_accuracy: 0.8582\n"
          ]
        },
        {
          "output_type": "execute_result",
          "data": {
            "text/plain": [
              "<keras.callbacks.History at 0x7f774bd02450>"
            ]
          },
          "metadata": {},
          "execution_count": 24
        }
      ],
      "source": [
        "'''\n",
        "  This cell trains the neural network with TensorFlow libraries and adjustable hyperparameters\n",
        "\n",
        "  batch_size: number of images passed through training at one time (128)\n",
        "  epochs: number of times the ENTIRE dataset will be passed through for training (15)\n",
        "  validation_split: ratio of training data that will be used as a validation set for each epoch (10%)\n",
        "\n",
        "  Note: Categorical Cross-entropy is a loss function that works well for single-label,\n",
        "        multi-class categorization problems (like this one!)\n",
        "'''\n",
        "\n",
        "batch_size = 5\n",
        "epochs = 8\n",
        "\n",
        "# Training the model and checking accuracy on each epoch\n",
        "model.compile(loss=\"categorical_crossentropy\", optimizer=\"adam\", metrics=[\"accuracy\"])\n",
        "model.fit(x_train, y_train, batch_size=batch_size, epochs=epochs, validation_split=0.2)"
      ]
    },
    {
      "cell_type": "markdown",
      "metadata": {
        "id": "uruh6tv4Nu6U"
      },
      "source": [
        "### Checkpoint: Saving the Trained Model\n",
        "\n",
        "Taken and modified from Emmett's code\n",
        "\n",
        "Training the model takes time. Here we save the trained model so that we don't have to re-train on each open of our program"
      ]
    },
    {
      "cell_type": "code",
      "execution_count": 25,
      "metadata": {
        "colab": {
          "base_uri": "https://localhost:8080/"
        },
        "id": "KIVb8jCyNrOk",
        "outputId": "9747d333-eaac-462a-cbc4-132cc76ad534"
      },
      "outputs": [
        {
          "output_type": "stream",
          "name": "stdout",
          "text": [
            "Saved model to disk\n"
          ]
        }
      ],
      "source": [
        "# Save model weights and structure from history object\n",
        "model_json = model.to_json()\n",
        "with open(os.path.join(OUTPUT_PATH,'Model_checkpoints',\"model-test-cnn-5000.json\"), \"w\") as json_file:\n",
        "    json_file.write(model_json)\n",
        "\n",
        "model.save_weights(os.path.join(OUTPUT_PATH,'Model_checkpoints',\"model-test-cnn-5000.h5\"))\n",
        "print(\"Saved model to disk\")\n"
      ]
    },
    {
      "cell_type": "markdown",
      "metadata": {
        "id": "0rO-fo6IbOG-"
      },
      "source": [
        "### Evaluate the Trained ML Model\n",
        "\n",
        "Here we check the accuracy of our ML model for future predictions"
      ]
    },
    {
      "cell_type": "code",
      "execution_count": 26,
      "metadata": {
        "colab": {
          "base_uri": "https://localhost:8080/"
        },
        "id": "OEDesJ95abmX",
        "outputId": "f8eedf00-524c-4867-fde4-35036224b4d7"
      },
      "outputs": [
        {
          "output_type": "stream",
          "name": "stdout",
          "text": [
            "Test loss: 0.4828459322452545\n",
            "Test accuracy: 0.842424213886261\n"
          ]
        }
      ],
      "source": [
        "score = model.evaluate(x_test, y_test, verbose=0) # Does not show on each epoch\n",
        "print(\"Test loss:\", score[0]) # Summation of errors in our model -> Tells us how well our model performs\n",
        "print(\"Test accuracy:\", score[1]) # Percentage of accurate predictions"
      ]
    },
    {
      "cell_type": "code",
      "execution_count": 34,
      "metadata": {
        "colab": {
          "base_uri": "https://localhost:8080/"
        },
        "id": "5VYYmT3DpD_g",
        "outputId": "3f353f73-04a6-456e-dc35-32c5e13459ec"
      },
      "outputs": [
        {
          "output_type": "stream",
          "name": "stdout",
          "text": [
            "[1 0 0 ... 3 3 4]\n"
          ]
        }
      ],
      "source": [
        "'''\n",
        "  Here we want two lists: one that stores the correct count based on the metadata,\n",
        "  and another that stores the count from training the network\n",
        "\n",
        "  ytrain_classes: CORRECT classification from y_train\n",
        "  classes: EXPERIMENTAL classification from y_pred\n",
        "'''\n",
        "\n",
        "y_pred = model.predict(x_train)\n",
        "y_pred # Displays the predicted type of plankton based on index\n",
        "\n",
        "classes = np.argmax(y_pred, axis = 1)\n",
        "print(classes)\n",
        "\n",
        "ytrain_classes = np.argmax(np.array(y_train), axis = 1)"
      ]
    },
    {
      "cell_type": "code",
      "execution_count": 29,
      "metadata": {
        "colab": {
          "base_uri": "https://localhost:8080/",
          "height": 271
        },
        "id": "xJGuG9hMq7hm",
        "outputId": "5c088a4c-fd81-481c-ab6f-842ae6026ed1"
      },
      "outputs": [
        {
          "output_type": "display_data",
          "data": {
            "text/plain": [
              "<Figure size 432x288 with 2 Axes>"
            ],
            "image/png": "[encoded data removed]"
          },
          "metadata": {
            "needs_background": "light"
          }
        }
      ],
      "source": [
        "'''\n",
        "  We create a Confusion Matrix to display the accuracy of our model visually\n",
        "\n",
        "  A Confusion Matrix shows the contrasst between expected and actual classification.\n",
        "  On the y-axis we have the true counts of classification, and the x-axis lies\n",
        "  the predicted classification.\n",
        "\n",
        "  If a count lies on the diagonal of the matrix, then it has been classified\n",
        "  correctly. For example, from the matrix below we see that 619 dinoflagellates were\n",
        "  correctly labelled as dinoflagellates. Ideally we want all the counts along the diagonal\n",
        "  \n",
        "  Any counts not on the diagonal represent a mistake. For example, from the matrix\n",
        "  below we see that 14 chaetoceros were incorrectly predicted by our model as\n",
        "  euglenoids. \n",
        "'''\n",
        "\n",
        "from locale import normalize\n",
        "from sklearn.metrics import confusion_matrix\n",
        "from sklearn.metrics import ConfusionMatrixDisplay\n",
        "\n",
        "cm = confusion_matrix(ytrain_classes, classes)\n",
        "labels = list(y_train.columns)\n",
        "\n",
        "disp = ConfusionMatrixDisplay(confusion_matrix=cm, display_labels=labels)\n",
        "disp.plot(cmap=plt.cm.Blues, xticks_rotation='vertical')\n",
        "plt.rc('font', size=3)\n",
        "plt.show()"
      ]
    }
  ],
  "metadata": {
    "colab": {
      "collapsed_sections": [],
      "name": "Hisham's WORKING 5-Group Classification of Plankton Image Data.ipynb",
      "provenance": [],
      "include_colab_link": true
    },
    "gpuClass": "standard",
    "kernelspec": {
      "display_name": "Python 3",
      "name": "python3"
    },
    "language_info": {
      "name": "python"
    }
  },
  "nbformat": 4,
  "nbformat_minor": 0
}
